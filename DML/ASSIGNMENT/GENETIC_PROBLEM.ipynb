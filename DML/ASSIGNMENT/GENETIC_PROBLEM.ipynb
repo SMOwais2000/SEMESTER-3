{
 "cells": [
  {
   "cell_type": "markdown",
   "id": "79f24617",
   "metadata": {},
   "source": [
    "# Solving OneMax problem using Genetic algorithm"
   ]
  },
  {
   "cell_type": "markdown",
   "id": "191c873d",
   "metadata": {},
   "source": [
    "OneMax Problem: The OneMax (or One-Max) problem is a simple optimization task\n",
    "that is often used as the Hello World of genetic algorithm frameworks. The OneMax task is to find the binary string of a given length that maximizes the sum of its digits.\n",
    "\n",
    "DEAP library: DEAP is a novel evolutionary computation framework for rapid\n",
    "prototyping and testing of ideas. It seeks to make algorithms explicit and data\n",
    "structures transparent. It works in perfect harmony with parallelisation mechanisms such as multiprocessing and SCOOP"
   ]
  },
  {
   "cell_type": "markdown",
   "id": "1c03fdd4",
   "metadata": {},
   "source": [
    "# Install library"
   ]
  },
  {
   "cell_type": "code",
   "execution_count": 1,
   "id": "f4dffce2",
   "metadata": {},
   "outputs": [
    {
     "name": "stdout",
     "output_type": "stream",
     "text": [
      "Requirement already satisfied: deap in c:\\users\\smsha\\anaconda3\\lib\\site-packages (1.3.3)Note: you may need to restart the kernel to use updated packages.\n",
      "Requirement already satisfied: numpy in c:\\users\\smsha\\anaconda3\\lib\\site-packages (from deap) (1.20.1)\n",
      "\n"
     ]
    }
   ],
   "source": [
    "pip install deap"
   ]
  },
  {
   "cell_type": "markdown",
   "id": "e744611b",
   "metadata": {},
   "source": [
    "# Import required libraries"
   ]
  },
  {
   "cell_type": "markdown",
   "id": "e3832b59",
   "metadata": {},
   "source": [
    "Module description:\n",
    "1. random : This module implements pseudo-random number generators for various distributions.\n",
    "\n",
    "2. base : The base module provides basic structures to build evolutionary algorithms. It contains the Toolbox , useful to store evolutionary operators, and a virtual Fitness class used as base class, for the fitness member of any individual.\n",
    "\n",
    "3. creator : The creator is a meta-factory allowing to create classes that will fulfill the needs of your evolutionary algorithms. In effect, new classes can be built from any imaginable type, from list to set , dict , PrimitiveTree and more, providing the possibility to implement genetic algorithms, genetic programming, evolution strategies, particle swarm optimizers, and many more.\n",
    "\n",
    "4. tools : The tools module contains the operators for evolutionary algorithms. They are used to modify, select and move the individuals in their environment. The set of operators it contains are readily usable in the Toolbox . In addition to the basic operators this module also contains utility tools to enhance the basic algorithms with Statistics , HallOfFame , and History .\n",
    "\n",
    "5. algorithms : The algorithms module is intended to contain some specific algorithms in order to execute very common evolutionary algorithms. The method used here are more for convenience than reference as the implementation of every evolutionary algorithm may vary infinitely. Most of the algorithms in this module use operators registered in the toolbox. Generally, the keyword used are mate() forcrossover, mutate() for mutation, select() for selection and evaluate() for evaluation."
   ]
  },
  {
   "cell_type": "code",
   "execution_count": 2,
   "id": "ce6a8ff8",
   "metadata": {},
   "outputs": [],
   "source": [
    "import random\n",
    "from deap import base, creator, tools, algorithms"
   ]
  },
  {
   "cell_type": "markdown",
   "id": "11f3db02",
   "metadata": {},
   "source": [
    "# Type Creation"
   ]
  },
  {
   "cell_type": "markdown",
   "id": "1e758804",
   "metadata": {},
   "source": [
    "The objective of the OneMax problem is to have a binary string with as many ones as possible. Thus we need a maximizing fitness and a individual that is a sorted container, we'll choose the standard list .\n",
    "Type creation is done by calling the function create() in the creator module. This function takes two mandatory arguments and additional optional arguments. The first argument is the actual name of the type that we want to create. The second argument is the base classe that the new type created should inherit from. Finally, the optional arguments are members to add to the new type."
   ]
  },
  {
   "cell_type": "code",
   "execution_count": 3,
   "id": "9f2150ff",
   "metadata": {},
   "outputs": [],
   "source": [
    "creator.create(\"FitnessMax\", base.Fitness, weights=(1.0,))\n",
    "creator.create(\"Individual\", list, fitness=creator.FitnessMax)"
   ]
  },
  {
   "cell_type": "markdown",
   "id": "f389db65",
   "metadata": {},
   "source": [
    "The first line creates a maximizing fitness by replacing, in the base type Fitness , the pure virtual weights attribute by (1.0,) that means to maximize a single objective fitness. The second line creates an Individual class that inherits the properties of list and has a fitness attribute of the type FitnessMax that was just created.\n",
    "\n",
    "Single objective is considered by DEAP the same way a multi objective function would but with a single value. The weights (as well as the returned value from the evaluation) are always required to be iterable.\n",
    "\n",
    "The created classes are made available in the creator module. We can instantiate directly objects of the created class as follows. This step is not required in an algorithm as the instatiation will be automated later."
   ]
  },
  {
   "cell_type": "markdown",
   "id": "0983a4fe",
   "metadata": {},
   "source": [
    "# Instantiating an Individual"
   ]
  },
  {
   "cell_type": "code",
   "execution_count": 4,
   "id": "e13de158",
   "metadata": {},
   "outputs": [
    {
     "name": "stdout",
     "output_type": "stream",
     "text": [
      "[1, 0, 1, 1, 0]\n",
      "<class 'deap.creator.Individual'>\n",
      "<class 'deap.creator.FitnessMax'>\n"
     ]
    }
   ],
   "source": [
    "ind = creator.Individual([1, 0, 1, 1, 0])\n",
    "print(ind)\n",
    "print(type(ind))\n",
    "print(type(ind.fitness))"
   ]
  },
  {
   "cell_type": "markdown",
   "id": "6736f390",
   "metadata": {},
   "source": [
    "# Toolbox\n",
    "\n",
    "The toolbox is intended to store functions with their arguments under standard aliases for\n",
    "uses in algorithms. Functions are registered by a function call with two mandatory\n",
    "arguments, the alias to give to the function and the function it will be associate with. Any\n",
    "additional argument will be given as argument when the alias is called."
   ]
  },
  {
   "cell_type": "code",
   "execution_count": 5,
   "id": "90c6c810",
   "metadata": {},
   "outputs": [],
   "source": [
    "toolbox = base.Toolbox()\n",
    "toolbox.register(\"attr_bool\", random.randint, 0, 1)\n",
    "toolbox.register(\"individual\", tools.initRepeat, creator.Individual, toolbox.attr_bool, n=10)\n",
    "toolbox.register(\"population\", tools.initRepeat, list, toolbox.individual)"
   ]
  },
  {
   "cell_type": "markdown",
   "id": "8d3e26f6",
   "metadata": {},
   "source": [
    "In the above block of code we have created a toolbox object and registered three functions. This first one, attr_bool , calls randint from the random module with arguments (0, 1) to create an integer in the interval . The second function, individual , when called, will use the initRepeat function made available in the tools module to fill an Individual class with what is produced by 10 calls to the previously defined attr_bool function. The same thing is done for the population function.\n",
    "\n",
    "For example, calling every function individually shows how it proceeds:"
   ]
  },
  {
   "cell_type": "code",
   "execution_count": 6,
   "id": "2ef396da",
   "metadata": {},
   "outputs": [
    {
     "name": "stdout",
     "output_type": "stream",
     "text": [
      "bit is of type <class 'int'> and has value\n",
      "0\n",
      "ind is of type <class 'deap.creator.Individual'> and contains 10 bits\n",
      "[1, 1, 0, 1, 1, 0, 0, 0, 0, 1]\n",
      "pop is of type <class 'list'> and contains 3 individuals\n",
      "[[0, 0, 1, 1, 1, 0, 1, 0, 1, 1], [0, 0, 1, 1, 1, 1, 1, 0, 1, 0], [0, 0, 0, 0, 0, 1, 0, 0, 1, 0]]\n"
     ]
    }
   ],
   "source": [
    "bit = toolbox.attr_bool()\n",
    "ind = toolbox.individual()\n",
    "pop = toolbox.population(n=3)\n",
    "\n",
    "print(\"bit is of type %s and has value\\n%s\" % (type(bit), bit))\n",
    "print(\"ind is of type %s and contains %d bits\\n%s\" % (type(ind), len(ind), ind))\n",
    "print(\"pop is of type %s and contains %d individuals\\n%s\" % (type(pop), len(pop), pop))"
   ]
  },
  {
   "cell_type": "markdown",
   "id": "2e0f89da",
   "metadata": {},
   "source": [
    "# Evaluation function"
   ]
  },
  {
   "cell_type": "markdown",
   "id": "e4a7270b",
   "metadata": {},
   "source": [
    "The evaluation function is pretty simple for the OneMax problem, we need to count the number of ones in an individual. We recall here that the returned value must be an iterable of length equal to the number of objectives (weights)."
   ]
  },
  {
   "cell_type": "code",
   "execution_count": 7,
   "id": "7f6690a7",
   "metadata": {},
   "outputs": [],
   "source": [
    "def evalOneMax(individual):\n",
    "    return sum(individual),"
   ]
  },
  {
   "cell_type": "markdown",
   "id": "afb7a7b5",
   "metadata": {},
   "source": [
    "# Genetic Operators"
   ]
  },
  {
   "cell_type": "code",
   "execution_count": 8,
   "id": "d327c5c7",
   "metadata": {},
   "outputs": [],
   "source": [
    "toolbox.register(\"evaluate\", evalOneMax)\n",
    "toolbox.register(\"mate\", tools.cxTwoPoint)\n",
    "toolbox.register(\"mutate\", tools.mutFlipBit, indpb=0.10)\n",
    "toolbox.register(\"select\", tools.selTournament, tournsize=3)"
   ]
  },
  {
   "cell_type": "markdown",
   "id": "f7081349",
   "metadata": {},
   "source": [
    "The evaluation is given the alias evaluate. Having a single argument being the individual to evaluate we don’t need to fix any, the individual will be given later in the algorithm. The two points crossover function is registered the same way under the alias mate. The mutation, for its part, needs an argument to be fixed (the independent probability of each attribute to be mutated indpb). In the algorithms the mutate() function is called with the signature toolbox.mutate(mutant). This is the most convenient way because each mutation takes a different number of arguments, having those arguments fixed in the toolbox leave open most of the possibilities to change the mutation (crossover, selection, or evaluation) operator later in your researches. Finally, the selection operator is registered under the name select and the size of the tournament set to 3.\n",
    "\n",
    "We can for example mutate an individual and expect 10% of its attributes to be flipped."
   ]
  },
  {
   "cell_type": "code",
   "execution_count": 9,
   "id": "778373eb",
   "metadata": {},
   "outputs": [
    {
     "name": "stdout",
     "output_type": "stream",
     "text": [
      "[1, 0, 1, 0, 0, 0, 1, 1, 1, 1]\n",
      "[1, 0, 1, 0, 0, 0, 1, 1, 1, 1]\n"
     ]
    }
   ],
   "source": [
    "ind = toolbox.individual()\n",
    "print(ind)\n",
    "toolbox.mutate(ind)\n",
    "print(ind)"
   ]
  },
  {
   "cell_type": "markdown",
   "id": "e673b57b",
   "metadata": {},
   "source": [
    "The operators execute their behaviour on the individuals in place, meaning that if the individual is not copied before modified the old individual is lost. Copying an individual is done with the clone function available in every toolbox."
   ]
  },
  {
   "cell_type": "code",
   "execution_count": 10,
   "id": "a0dce9d8",
   "metadata": {},
   "outputs": [
    {
     "name": "stdout",
     "output_type": "stream",
     "text": [
      "False\n",
      "True\n"
     ]
    }
   ],
   "source": [
    "mutant = toolbox.clone(ind)\n",
    "print(mutant is ind)\n",
    "print(mutant == ind)"
   ]
  },
  {
   "cell_type": "markdown",
   "id": "4504bb7f",
   "metadata": {},
   "source": [
    "# Evolving the population"
   ]
  },
  {
   "cell_type": "markdown",
   "id": "caab5ca4",
   "metadata": {},
   "source": [
    "The main program shall be defined in a main function. All previous declarations are put in the global scope of the module to make created objects available for further use in other user experiments.\n",
    "\n",
    "The main program is very simple. It consists of generating a population, and giving it to the algorithm for it to evolve a solution. Here we will employ some helpful introspection tools such as Statistics and a Hall of Fame. The statistics are computed using numpy functions on the population, and the hall of fame keeps track of the best individuals that ever appeared during the evolution. The algorithm take as arguments, among other, the population and the toolbox. Once the evolution is finished the population contains the individuals from the last generation."
   ]
  },
  {
   "cell_type": "code",
   "execution_count": 11,
   "id": "f36eddd7",
   "metadata": {},
   "outputs": [],
   "source": [
    "def main():\n",
    "    import numpy\n",
    "    \n",
    "    pop = toolbox.population(n=50)\n",
    "    hof = tools.HallOfFame(1)\n",
    "    stats = tools.Statistics(lambda ind: ind.fitness.values)\n",
    "    stats.register(\"avg\", numpy.mean)\n",
    "    stats.register(\"min\", numpy.min)\n",
    "    stats.register(\"max\", numpy.max)\n",
    "    \n",
    "    pop, logbook = algorithms.eaSimple(pop, toolbox, cxpb=0.5, mutpb=0.2, ngen=10, stats=stats, halloffame=hof, verbose=True)\n",
    "    \n",
    "    return pop, logbook, hof"
   ]
  },
  {
   "cell_type": "markdown",
   "id": "0b7f82ab",
   "metadata": {},
   "source": [
    "Next, we protect our call to the main function and launch the evolution, the verbose argument tell to output the stats on every generations. We can print and plot the data returned."
   ]
  },
  {
   "cell_type": "code",
   "execution_count": 12,
   "id": "a317a699",
   "metadata": {},
   "outputs": [
    {
     "name": "stdout",
     "output_type": "stream",
     "text": [
      "gen\tnevals\tavg \tmin\tmax\n",
      "0  \t50    \t4.74\t2  \t8  \n",
      "1  \t34    \t6.08\t4  \t9  \n",
      "2  \t33    \t6.98\t4  \t9  \n",
      "3  \t37    \t7.84\t5  \t10 \n",
      "4  \t34    \t8.44\t5  \t10 \n",
      "5  \t34    \t9   \t6  \t10 \n",
      "6  \t29    \t9.42\t7  \t10 \n",
      "7  \t29    \t9.7 \t7  \t10 \n",
      "8  \t27    \t9.86\t8  \t10 \n",
      "9  \t21    \t9.86\t8  \t10 \n",
      "10 \t23    \t9.86\t7  \t10 \n",
      "Best individual is: [1, 1, 1, 1, 1, 1, 1, 1, 1, 1]\n",
      "with fitness: (10.0,)\n"
     ]
    },
    {
     "data": {
      "image/png": "[encoded data removed]",
      "text/plain": [
       "<Figure size 432x288 with 1 Axes>"
      ]
     },
     "metadata": {
      "needs_background": "light"
     },
     "output_type": "display_data"
    }
   ],
   "source": [
    "if __name__ == \"__main__\":\n",
    "    pop, log, hof = main()\n",
    "    print(\"Best individual is: %s\\nwith fitness: %s\" % (hof[0], hof[0].fitness))\n",
    "    \n",
    "    import matplotlib.pyplot as plt\n",
    "    gen, avg, min_, max_ = log.select(\"gen\", \"avg\", \"min\", \"max\")\n",
    "    plt.plot(gen, avg, label=\"average\")\n",
    "    plt.plot(gen, min_, label=\"minimum\")\n",
    "    plt.plot(gen, max_, label=\"maximum\")\n",
    "    plt.xlabel(\"Generation\")\n",
    "    plt.ylabel(\"Fitness\")\n",
    "    plt.legend(loc=\"lower right\")\n",
    "    plt.show()"
   ]
  },
  {
   "cell_type": "code",
   "execution_count": null,
   "id": "5f72c978",
   "metadata": {},
   "outputs": [],
   "source": []
  },
  {
   "cell_type": "code",
   "execution_count": null,
   "id": "461d48be",
   "metadata": {},
   "outputs": [],
   "source": []
  }
 ],
 "metadata": {
  "kernelspec": {
   "display_name": "Python 3",
   "language": "python",
   "name": "python3"
  },
  "language_info": {
   "codemirror_mode": {
    "name": "ipython",
    "version": 3
   },
   "file_extension": ".py",
   "mimetype": "text/x-python",
   "name": "python",
   "nbconvert_exporter": "python",
   "pygments_lexer": "ipython3",
   "version": "3.8.8"
  }
 },
 "nbformat": 4,
 "nbformat_minor": 5
}
